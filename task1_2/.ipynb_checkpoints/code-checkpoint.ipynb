{
 "cells": [
  {
   "cell_type": "code",
   "execution_count": 1,
   "id": "08466e64",
   "metadata": {},
   "outputs": [],
   "source": [
    "import backtrader as bt\n",
    "import quantstats\n",
    "import akshare as ak\n",
    "import efinance as ef\n",
    "import pandas as pd\n",
    "import numpy as np\n",
    "import os\n",
    "import matplotlib.pyplot as plt\n",
    "import run\n",
    "import sys\n",
    "import math\n",
    "import imgkit\n",
    "from PIL import Image\n",
    "from scipy import stats\n",
    "import empyrical as ey\n",
    "import itertools \n",
    "import collections\n",
    "import datetime\n",
    "import riskfolio as rp\n",
    "import tradesys as ts\n",
    "import math"
   ]
  },
  {
   "cell_type": "markdown",
   "id": "85ba3edb",
   "metadata": {},
   "source": [
    "### 1，找出所有需要的基金代码"
   ]
  },
  {
   "cell_type": "markdown",
   "id": "d2b784e8",
   "metadata": {},
   "source": [
    "### 2，利用akshare取基金日频净值数据"
   ]
  },
  {
   "cell_type": "markdown",
   "id": "beb2e8c3",
   "metadata": {},
   "source": [
    "### 3，编写函数批量计算risk parity权重与min risk 权重"
   ]
  },
  {
   "cell_type": "markdown",
   "id": "dfe029c8",
   "metadata": {},
   "source": [
    "### 4 从结果文档中搜索数据，生成所需数据宽表"
   ]
  },
  {
   "cell_type": "code",
   "execution_count": 47,
   "id": "7d768986",
   "metadata": {},
   "outputs": [],
   "source": [
    "def str2timegap(str1 ='2019年第一季度'):\n",
    "    year = str1[:4]\n",
    "    if '一' in str1:\n",
    "        start_md ='01-01'\n",
    "        end_md ='03-31'\n",
    "    if '二' in str1:\n",
    "        start_md ='04-01'\n",
    "        end_md ='06-30'\n",
    "    if '三' in str1:\n",
    "        start_md ='07-01'\n",
    "        end_md ='09-30'\n",
    "    if '四' in str1:\n",
    "        start_md ='10-01'\n",
    "        end_md ='12-31'\n",
    "    startdt = year+'-'+ start_md\n",
    "    enddt = year+'-'+ end_md\n",
    "    return [startdt,enddt]"
   ]
  },
  {
   "cell_type": "code",
   "execution_count": 48,
   "id": "2c969ba2",
   "metadata": {},
   "outputs": [],
   "source": [
    "def format2result(codelist,str2 = '2019年第一季度'):\n",
    "    list1=  str2timegap(str2)\n",
    "    df = calculate_weight(codelist,startdate =list1[0],enddate = list1[1],objdf = df1)\n",
    "    df['持仓时间'] = str2\n",
    "    return df"
   ]
  },
  {
   "cell_type": "code",
   "execution_count": 254,
   "id": "3e3c733e",
   "metadata": {},
   "outputs": [],
   "source": [
    "def getquarter(date = '2021-01-01'):\n",
    "    year = date[:4]\n",
    "    month = int(date[5:7]) \n",
    "    if i ==1 or i ==2 or i==3:\n",
    "        quarter = 1\n",
    "    re\n",
    "getquarter()"
   ]
  },
  {
   "cell_type": "code",
   "execution_count": 36,
   "id": "88ceb7d7",
   "metadata": {},
   "outputs": [],
   "source": [
    "def getquarter(date = '2021-01-01'):\n",
    "    year = date[:4]\n",
    "    i = int(date[5:7])\n",
    "    if i ==1 or i ==2 or i==3:\n",
    "        quarter = '01-01'\n",
    "    if i ==4 or i ==5 or i==6:\n",
    "        quarter = '04-01'\n",
    "    if i ==7 or i ==8 or i==9:\n",
    "        quarter = '07-01'\n",
    "    if i ==10 or i ==11 or i==12:\n",
    "        quarter = '10-01'\n",
    "    result = str(year)+'-'+str(quarter)\n",
    "    return result\n"
   ]
  },
  {
   "cell_type": "markdown",
   "id": "f40d4ea3",
   "metadata": {},
   "source": [
    "### 5 生成文件"
   ]
  },
  {
   "cell_type": "code",
   "execution_count": 37,
   "id": "bbeb4f1b",
   "metadata": {},
   "outputs": [],
   "source": [
    "df_result1 = pd.read_excel('股票型.xlsx')\n",
    "df_holdhist = df_result1[['key_0','w_mean_risk','持仓时间']].reset_index()\n",
    "df_holdhist['time'] = df_holdhist['持仓时间'].apply(str2timegap).apply(lambda x:x[0])#.apply(timeformat)\n",
    "ticker_names = list(set([alls for alls in df_holdhist['key_0']]))\n",
    "targets = {ticker: {} for ticker in ticker_names}\n",
    "for i in range(df_holdhist.shape[0]):\n",
    "    targets[df_holdhist['key_0'][i]].update({df_holdhist['time'][i]: df_holdhist['w_mean_risk'][i]})\n"
   ]
  },
  {
   "cell_type": "code",
   "execution_count": 48,
   "id": "9eab2ad6",
   "metadata": {},
   "outputs": [],
   "source": [
    "class Strategy(bt.Strategy):\n",
    "    def __init__(self):\n",
    "        self.order = True\n",
    "        self.quarter = '2017-01-01'\n",
    "        # a = self.broker.getvalue()\n",
    "        # b = self.broker.getcash()\n",
    "        # print(a)\n",
    "\n",
    "\n",
    "    def next(self):\n",
    "        curdate = str(self.datas[0].datetime.date(0))\n",
    "        if self.order == False:\n",
    "            quarter = getquarter(curdate)\n",
    "            if quarter != self.quarter:\n",
    "                self.order = True\n",
    "                self.quarter = quarter\n",
    "                for d in self.datas:\n",
    "                    id1 = d.params.dataname[-10:-4]\n",
    "                    position1 = self.positionsbyname[id1]\n",
    "                    if position1.size < 0:\n",
    "                        print(position1.size)\n",
    "                        print('----------!!!!!!!!!!!!---------------')\n",
    "                    if position1.size > 0:\n",
    "                        self.order_target_value(d,target = 0 )\n",
    "            print(curdate, ' cash:', self.broker.get_cash(), 'value:', self.broker.getvalue())\n",
    "            return\n",
    "\n",
    "        if self.order == True:\n",
    "            b = self.broker.getcash()\n",
    "            for d in self.datas:\n",
    "                id1 = d.params.dataname[-10:-4]\n",
    "                if self.quarter in d.target.keys():\n",
    "                    buyvalue = (d.target[self.quarter])\n",
    "                    self.order_target_percent(d,target = buyvalue*0.99)\n",
    "            self.order = False\n",
    "            print(curdate, ' cash:', self.broker.get_cash(), 'value:', self.broker.getvalue())\n",
    "            return\n"
   ]
  },
  {
   "cell_type": "code",
   "execution_count": 49,
   "id": "2263c0fa",
   "metadata": {},
   "outputs": [],
   "source": [
    "cerebro = bt.Cerebro()\n",
    "for ticker, target in targets.items():\n",
    "    dataname_i ='datas/'+str(ticker)+'.csv'\n",
    "    data = bt.feeds.GenericCSVData(\n",
    "                                    dataname=dataname_i,\n",
    "                                    fromdate=datetime.datetime(2017, 1, 1),\n",
    "                                    todate=datetime.datetime(2021, 6, 30),\n",
    "                                    nullvalue=0.0,\n",
    "                                    dtformat=('%Y-%m-%d'),\n",
    "                                    datetime=1,\n",
    "                                    high = 2,\n",
    "                                    low=2,\n",
    "                                    open=2,\n",
    "                                    close=2,\n",
    "                                    volume=-1,\n",
    "                                    openinterest=-1\n",
    "                                    )\n",
    "    data.target = target\n",
    "    cerebro.adddata(data, name=str(ticker))\n",
    "    \n",
    "cerebro.addanalyzer(bt.analyzers.PyFolio, _name='PyFolio')\n",
    "cerebro.addanalyzer(bt.analyzers.TradeAnalyzer, _name = \"TA\")\n",
    "cerebro.addanalyzer(bt.analyzers.TimeReturn, _name = \"TR\")\n",
    "cerebro.addanalyzer(bt.analyzers.SQN, _name = \"SQN\")\n",
    "cerebro.addanalyzer(bt.analyzers.Returns, _name = \"Returns\")\n",
    "cerebro.addanalyzer(bt.analyzers.TimeDrawDown, _name = \"TimeDrawDown\")\n",
    "cerebro.addanalyzer(bt.analyzers.SharpeRatio, _name='SharpeRatio', timeframe=bt.TimeFrame.Days, annualize=True, riskfreerate=0.03)\n",
    "cerebro.addanalyzer(bt.analyzers.SharpeRatio_A, _name='SharpeRatio_A')\n",
    "\n",
    "cerebro.addstrategy(Strategy)\n",
    "cerebro.broker.setcash(10000)\n",
    "\n",
    "# Execute\n",
    "results = cerebro.run()"
   ]
  },
  {
   "cell_type": "code",
   "execution_count": 52,
   "id": "c202c12e",
   "metadata": {},
   "outputs": [],
   "source": [
    "portfolio_stats = results[0].analyzers.getbyname('PyFolio')\n",
    "returns, positions, transactions, gross_lev = portfolio_stats.get_pf_items()\n",
    "returns.index = returns.index.tz_convert(None)\n",
    "totalTrade = results[0].analyzers.getbyname(\"TA\").get_analysis()\n",
    "sqn = results[0].analyzers.SQN.get_analysis()[\"sqn\"]\n",
    "Returns = results[0].analyzers.Returns.get_analysis()\n",
    "timedrawdown = results[0].analyzers.TimeDrawDown.get_analysis()\n",
    "sharpe = results[0].analyzers.SharpeRatio.get_analysis()\n",
    "sharpeA = results[0].analyzers.SharpeRatio_A.get_analysis()\n",
    "\n",
    "backtest_results = pd.Series()\n",
    "\n",
    "backtest_results[\"总收益率\"] = Returns[\"rtot\"]\n",
    "backtest_results[\"平均收益率\"] = Returns[\"ravg\"]\n",
    "backtest_results[\"年化收益率\"] = Returns[\"rnorm\"]\n",
    "prepare_returns = False\n",
    "# 计算夏普比率\n",
    "if returns.std() == 0.0:\n",
    "    sharpe = 0.0\n",
    "else:\n",
    "    sharpe = quantstats.stats.sharpe(returns = returns, rf = 0.3)\n",
    "# 计算αβ值\n",
    "backtest_results[\"波动率\"] = quantstats.stats.volatility(returns = returns, prepare_returns = prepare_returns)\n",
    "backtest_results[\"赢钱概率\"] = quantstats.stats.win_rate(returns = returns, prepare_returns = prepare_returns)\n",
    "backtest_results[\"收益风险比\"] = quantstats.stats.risk_return_ratio(returns = returns, prepare_returns = prepare_returns)\n",
    "backtest_results[\"夏普比率\"] = sharpe\n",
    "\n",
    "\n",
    "# 最大回撤\n",
    "md = quantstats.stats.max_drawdown(prices = returns)\n",
    "backtest_results[\"最大回撤\"] = md"
   ]
  },
  {
   "cell_type": "code",
   "execution_count": 60,
   "id": "de507546",
   "metadata": {},
   "outputs": [
    {
     "ename": "NameError",
     "evalue": "name 'alphabeta' is not defined",
     "output_type": "error",
     "traceback": [
      "\u001b[1;31m---------------------------------------------------------------------------\u001b[0m",
      "\u001b[1;31mNameError\u001b[0m                                 Traceback (most recent call last)",
      "\u001b[1;32m~\\AppData\\Local\\Temp/ipykernel_9900/2759093564.py\u001b[0m in \u001b[0;36m<module>\u001b[1;34m\u001b[0m\n\u001b[0;32m     10\u001b[0m \u001b[0mbacktest_results\u001b[0m\u001b[1;33m[\u001b[0m\u001b[1;34m\"收益风险比\"\u001b[0m\u001b[1;33m]\u001b[0m \u001b[1;33m=\u001b[0m \u001b[0mquantstats\u001b[0m\u001b[1;33m.\u001b[0m\u001b[0mstats\u001b[0m\u001b[1;33m.\u001b[0m\u001b[0mrisk_return_ratio\u001b[0m\u001b[1;33m(\u001b[0m\u001b[0mreturns\u001b[0m \u001b[1;33m=\u001b[0m \u001b[0mreturns\u001b[0m\u001b[1;33m,\u001b[0m \u001b[0mprepare_returns\u001b[0m \u001b[1;33m=\u001b[0m \u001b[0mprepare_returns\u001b[0m\u001b[1;33m)\u001b[0m\u001b[1;33m\u001b[0m\u001b[1;33m\u001b[0m\u001b[0m\n\u001b[0;32m     11\u001b[0m \u001b[0mbacktest_results\u001b[0m\u001b[1;33m[\u001b[0m\u001b[1;34m\"夏普比率\"\u001b[0m\u001b[1;33m]\u001b[0m \u001b[1;33m=\u001b[0m \u001b[0msharpe\u001b[0m\u001b[1;33m\u001b[0m\u001b[1;33m\u001b[0m\u001b[0m\n\u001b[1;32m---> 12\u001b[1;33m \u001b[0mbacktest_results\u001b[0m\u001b[1;33m[\u001b[0m\u001b[1;34m\"α值\"\u001b[0m\u001b[1;33m]\u001b[0m \u001b[1;33m=\u001b[0m \u001b[0malphabeta\u001b[0m\u001b[1;33m.\u001b[0m\u001b[0malpha\u001b[0m\u001b[1;33m\u001b[0m\u001b[1;33m\u001b[0m\u001b[0m\n\u001b[0m\u001b[0;32m     13\u001b[0m \u001b[0mbacktest_results\u001b[0m\u001b[1;33m[\u001b[0m\u001b[1;34m\"β值\"\u001b[0m\u001b[1;33m]\u001b[0m \u001b[1;33m=\u001b[0m \u001b[0malphabeta\u001b[0m\u001b[1;33m.\u001b[0m\u001b[0mbeta\u001b[0m\u001b[1;33m\u001b[0m\u001b[1;33m\u001b[0m\u001b[0m\n\u001b[0;32m     14\u001b[0m \u001b[0mbacktest_results\u001b[0m\u001b[1;33m[\u001b[0m\u001b[1;34m\"信息比例\"\u001b[0m\u001b[1;33m]\u001b[0m \u001b[1;33m=\u001b[0m \u001b[0minfo\u001b[0m\u001b[1;33m\u001b[0m\u001b[1;33m\u001b[0m\u001b[0m\n",
      "\u001b[1;31mNameError\u001b[0m: name 'alphabeta' is not defined"
     ]
    }
   ],
   "source": []
  },
  {
   "cell_type": "code",
   "execution_count": 61,
   "id": "4e293f54",
   "metadata": {},
   "outputs": [
    {
     "data": {
      "text/plain": [
       "总收益率     0.012903\n",
       "平均收益率    0.000012\n",
       "年化收益率    0.002974\n",
       "波动率      0.166375\n",
       "赢钱概率     0.520811\n",
       "收益风险比    0.006389\n",
       "夏普比率    -1.476354\n",
       "dtype: float64"
      ]
     },
     "execution_count": 61,
     "metadata": {},
     "output_type": "execute_result"
    }
   ],
   "source": [
    "backtest_results"
   ]
  },
  {
   "cell_type": "code",
   "execution_count": null,
   "id": "8dc322f3",
   "metadata": {},
   "outputs": [],
   "source": []
  }
 ],
 "metadata": {
  "kernelspec": {
   "display_name": "Python 3 (ipykernel)",
   "language": "python",
   "name": "python3"
  },
  "language_info": {
   "codemirror_mode": {
    "name": "ipython",
    "version": 3
   },
   "file_extension": ".py",
   "mimetype": "text/x-python",
   "name": "python",
   "nbconvert_exporter": "python",
   "pygments_lexer": "ipython3",
   "version": "3.9.7"
  }
 },
 "nbformat": 4,
 "nbformat_minor": 5
}
