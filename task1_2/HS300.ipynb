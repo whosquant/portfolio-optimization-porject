{
 "cells": [
  {
   "cell_type": "code",
   "execution_count": 3,
   "id": "f12aa2f2",
   "metadata": {},
   "outputs": [],
   "source": [
    "# 交易系统，封装回测、优化基本过程\n",
    "\n",
    "\n",
    "import backtrader as bt\n",
    "import quantstats\n",
    "import akshare as ak\n",
    "import efinance as ef\n",
    "import pandas as pd\n",
    "import numpy as np\n",
    "import os\n",
    "import matplotlib.pyplot as plt\n",
    "import run\n",
    "import sys\n",
    "import math\n",
    "import imgkit\n",
    "from PIL import Image\n",
    "from scipy import stats\n",
    "import empyrical as ey\n",
    "import itertools \n",
    "import collections\n",
    "import datetime"
   ]
  },
  {
   "cell_type": "code",
   "execution_count": 4,
   "id": "42ad53af",
   "metadata": {},
   "outputs": [
    {
     "name": "stderr",
     "output_type": "stream",
     "text": [
      "100%|██████████████████████████████████████████████████████████████████████████████████| 11/11 [00:09<00:00,  1.13it/s]\n"
     ]
    }
   ],
   "source": [
    "hsstock_zh_index_daily_tx_df = ak.stock_zh_index_daily_tx(symbol=\"sh000985\")"
   ]
  },
  {
   "cell_type": "code",
   "execution_count": 5,
   "id": "8f564e35",
   "metadata": {},
   "outputs": [],
   "source": [
    "df =hsstock_zh_index_daily_tx_df"
   ]
  },
  {
   "cell_type": "code",
   "execution_count": 6,
   "id": "53a2dadd",
   "metadata": {},
   "outputs": [],
   "source": [
    "s1 = df.set_index('date')['close']"
   ]
  },
  {
   "cell_type": "code",
   "execution_count": 7,
   "id": "0c544d7f",
   "metadata": {},
   "outputs": [],
   "source": [
    "returns = s1.pct_change()[pd.to_datetime('2017-01-01'):pd.to_datetime('2021-06-30')]"
   ]
  },
  {
   "cell_type": "code",
   "execution_count": 8,
   "id": "73b1e646",
   "metadata": {},
   "outputs": [
    {
     "data": {
      "text/plain": [
       "0.41745675863927634"
      ]
     },
     "execution_count": 8,
     "metadata": {},
     "output_type": "execute_result"
    }
   ],
   "source": [
    "returns.sum()"
   ]
  },
  {
   "cell_type": "code",
   "execution_count": 9,
   "id": "3569d5e4",
   "metadata": {},
   "outputs": [],
   "source": [
    "backtest_results = pd.Series()\n",
    "prepare_returns = False\n",
    "# 计算夏普比率\n",
    "if returns.std() == 0.0:\n",
    "    sharpe = 0.0\n",
    "else:\n",
    "    sharpe = quantstats.stats.sharpe(returns = returns, rf = 0.03)\n",
    "# 计算αβ值\n",
    "backtest_results[\"波动率\"] = quantstats.stats.volatility(returns = returns, prepare_returns = prepare_returns)\n",
    "backtest_results[\"赢钱概率\"] = quantstats.stats.win_rate(returns = returns, prepare_returns = prepare_returns)\n",
    "backtest_results[\"收益风险比\"] = quantstats.stats.risk_return_ratio(returns = returns, prepare_returns = prepare_returns)\n",
    "backtest_results[\"夏普比率\"] = sharpe\n",
    "\n",
    "\n",
    "# 最大回撤\n",
    "md = quantstats.stats.max_drawdown(prices = returns)\n",
    "backtest_results[\"最大回撤\"] = md\n",
    "b"
   ]
  },
  {
   "cell_type": "code",
   "execution_count": 11,
   "id": "4fc7c7d1",
   "metadata": {},
   "outputs": [
    {
     "data": {
      "text/plain": [
       "0.18394601998883864"
      ]
     },
     "execution_count": 11,
     "metadata": {},
     "output_type": "execute_result"
    }
   ],
   "source": [
    "close = s1[pd.to_datetime('2017-01-01'):pd.to_datetime('2021-06-30')][-1] \n",
    "open = s1[pd.to_datetime('2017-01-01'):pd.to_datetime('2021-06-30')][0]\n",
    "(close-open)/open"
   ]
  },
  {
   "cell_type": "code",
   "execution_count": 12,
   "id": "56bb9312",
   "metadata": {},
   "outputs": [
    {
     "data": {
      "text/plain": [
       "1.0698743136316573"
      ]
     },
     "execution_count": 12,
     "metadata": {},
     "output_type": "execute_result"
    }
   ],
   "source": [
    "(1+(close-open)/open)**(1/2.5)"
   ]
  },
  {
   "cell_type": "code",
   "execution_count": 15,
   "id": "701cdd6d",
   "metadata": {},
   "outputs": [],
   "source": [
    "backtest_results['年化收益率'] = (1+(close-open)/open)**(1/2.5) -1"
   ]
  },
  {
   "cell_type": "code",
   "execution_count": 17,
   "id": "28705d49",
   "metadata": {},
   "outputs": [],
   "source": [
    "backtest_results.to_excel('中证全指.xlsx')"
   ]
  },
  {
   "cell_type": "code",
   "execution_count": 26,
   "id": "4626d3c0",
   "metadata": {},
   "outputs": [],
   "source": [
    "(s1[pd.to_datetime('2017-01-01'):pd.to_datetime('2021-06-30')]*10000/4927.75).to_excel('zzqz.xlsx')"
   ]
  },
  {
   "cell_type": "code",
   "execution_count": null,
   "id": "f04c97f1",
   "metadata": {},
   "outputs": [],
   "source": []
  }
 ],
 "metadata": {
  "kernelspec": {
   "display_name": "Python 3 (ipykernel)",
   "language": "python",
   "name": "python3"
  },
  "language_info": {
   "codemirror_mode": {
    "name": "ipython",
    "version": 3
   },
   "file_extension": ".py",
   "mimetype": "text/x-python",
   "name": "python",
   "nbconvert_exporter": "python",
   "pygments_lexer": "ipython3",
   "version": "3.9.7"
  }
 },
 "nbformat": 4,
 "nbformat_minor": 5
}
